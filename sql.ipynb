{
 "cells": [
  {
   "cell_type": "code",
   "execution_count": 2,
   "id": "1fe35609-6368-4880-b389-021a4846b916",
   "metadata": {},
   "outputs": [],
   "source": [
    "# import package\n",
    "# --------------\n",
    "import sqlite3\n",
    "\n",
    "\n",
    "# Connect to SQlite\n",
    "# -----------------\n",
    "\n",
    "#Our database name: Naresh_it_employee\n",
    "connection=sqlite3.connect(\"Naresh_it_employee.db\")\n",
    "\n",
    "\n",
    "# Create a cursor object to run queries\n",
    "# -------------------------------------\n",
    "cursor=connection.cursor()\n",
    "\n",
    "\n",
    "#create the table - Nit_employees\n",
    "\n",
    "table_info=\"\"\"\n",
    "Create table Nit_employees(employee_name varchar(30),\n",
    "                    employee_role varchar(30),\n",
    "                    employee_salary FLOAT);\n",
    "\"\"\"\n",
    "\n",
    "cursor.execute(table_info)\n",
    "\n",
    "\n",
    "#Insert the records\n",
    "\n",
    "cursor.execute('''Insert Into Nit_employees values('Pat Cummins','Data Science',75000)''')\n",
    "cursor.execute('''Insert Into Nit_employees values('Glenn Maxwell','Data Science',90000)''')\n",
    "cursor.execute('''Insert Into Nit_employees values('David Warner','Data Science',88000)''')\n",
    "cursor.execute('''Insert Into Nit_employees values('Adam Zampa','Data Engineer',50000)''')\n",
    "cursor.execute('''Insert Into Nit_employees values('Marcus Stoinis','Data Engineer',35000)''')\n",
    "cursor.execute('''Insert Into Nit_employees values('Travis Head','Data Engineer',60000)''')\n",
    "\n",
    "\n",
    "# Display aLl the records\n",
    "\n",
    "data=cursor.execute('''Select * from Nit_employees''')\n",
    "\n",
    "print(\"The inserted records are\")\n",
    "for row in data:\n",
    "    print(row)\n",
    "\n",
    "\n",
    "# Commit the changes in the database\n",
    "# ----------------------------------\n",
    "connection.commit()\n",
    "connection.close()\n"
   ]
  },
  {
   "cell_type": "code",
   "execution_count": null,
   "id": "ff662d43-877e-4a75-83a1-a90055898212",
   "metadata": {},
   "outputs": [],
   "source": []
  }
 ],
 "metadata": {
  "kernelspec": {
   "display_name": "Python 3 (ipykernel)",
   "language": "python",
   "name": "python3"
  },
  "language_info": {
   "codemirror_mode": {
    "name": "ipython",
    "version": 3
   },
   "file_extension": ".py",
   "mimetype": "text/x-python",
   "name": "python",
   "nbconvert_exporter": "python",
   "pygments_lexer": "ipython3",
   "version": "3.11.7"
  }
 },
 "nbformat": 4,
 "nbformat_minor": 5
}
